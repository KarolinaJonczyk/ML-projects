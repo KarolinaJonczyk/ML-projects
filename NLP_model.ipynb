{
 "cells": [
  {
   "cell_type": "code",
   "execution_count": 86,
   "id": "dc1e2eb4-99a6-476f-b4b4-30300d7b7be7",
   "metadata": {},
   "outputs": [],
   "source": [
    "import re\n",
    "import nltk\n",
    "from nltk.tokenize import sent_tokenize\n",
    "from nltk.tokenize import word_tokenize\n",
    "from nltk.corpus import stopwords\n",
    "from nltk.stem.porter import PorterStemmer\n",
    "from nltk.stem.wordnet import WordNetLemmatizer\n",
    "from nltk.stem.wordnet import WordNetLemmatizer\n",
    "from nltk import pos_tag\n",
    "from nltk import ne_chunk"
   ]
  },
  {
   "cell_type": "code",
   "execution_count": 5,
   "id": "d7523b80-488f-4423-9e15-bc9b19d9327a",
   "metadata": {},
   "outputs": [],
   "source": [
    "cat_text = \"\"\"In the U.S. alone, cats reign over about 45.3 million households.\n",
    "            There are at least 45 domestic breeds, which differ widely in features such as coat color, tail length, hair texture, and temperament, according to the Cat Fancier’s Association.\n",
    "            The Maine Coon is the largest, with males reaching an average of 3.5 feet long.\n",
    "            The smallest breed is the Singapura, native to Singapore, with adult females weighing as little as four pounds.\n",
    "            One of the most unusual-looking cats is the Sphynx, a mostly hairless cat known for being robust and intelligent.\"\"\""
   ]
  },
  {
   "cell_type": "code",
   "execution_count": 45,
   "id": "64adc47a-0489-4032-aff1-88e915169921",
   "metadata": {},
   "outputs": [],
   "source": [
    "#nltk.download('punkt')\n",
    "text_list = sent_tokenize(cat_text)\n",
    "n = len(text_list)"
   ]
  },
  {
   "cell_type": "code",
   "execution_count": 44,
   "id": "cc4d75e9-2cd1-4f93-9230-0a99fb2c5d3b",
   "metadata": {},
   "outputs": [
    {
     "name": "stdout",
     "output_type": "stream",
     "text": [
      "['In the U S  alone  cats reign over about 45 3 million households ', 'There are at least 45 domestic breeds  which differ widely in features such as coat color  tail length  hair texture  and temperament  according to the Cat Fancier s Association ', 'The Maine Coon is the largest  with males reaching an average of 3 5 feet long ', 'The smallest breed is the Singapura  native to Singapore  with adult females weighing as little as four pounds ', 'One of the most unusual looking cats is the Sphynx  a mostly hairless cat known for being robust and intelligent ']\n"
     ]
    }
   ],
   "source": [
    "sub_list = []\n",
    "for i in range(n):\n",
    "    sub = (re.sub(r\"[^a-zA-Z0-9]\", \" \", text_list[i]))\n",
    "    sub_list.append(sub)\n",
    "print(sub_list)"
   ]
  },
  {
   "cell_type": "code",
   "execution_count": 55,
   "id": "412da6fa-5605-44f0-aca7-b22602f41975",
   "metadata": {},
   "outputs": [
    {
     "name": "stdout",
     "output_type": "stream",
     "text": [
      "[['In', 'the', 'U', 'S', 'alone', 'cats', 'reign', 'over', 'about', '45', '3', 'million', 'households'], ['There', 'are', 'at', 'least', '45', 'domestic', 'breeds', 'which', 'differ', 'widely', 'in', 'features', 'such', 'as', 'coat', 'color', 'tail', 'length', 'hair', 'texture', 'and', 'temperament', 'according', 'to', 'the', 'Cat', 'Fancier', 's', 'Association'], ['The', 'Maine', 'Coon', 'is', 'the', 'largest', 'with', 'males', 'reaching', 'an', 'average', 'of', '3', '5', 'feet', 'long'], ['The', 'smallest', 'breed', 'is', 'the', 'Singapura', 'native', 'to', 'Singapore', 'with', 'adult', 'females', 'weighing', 'as', 'little', 'as', 'four', 'pounds'], ['One', 'of', 'the', 'most', 'unusual', 'looking', 'cats', 'is', 'the', 'Sphynx', 'a', 'mostly', 'hairless', 'cat', 'known', 'for', 'being', 'robust', 'and', 'intelligent']]\n"
     ]
    }
   ],
   "source": [
    "words = []\n",
    "for i in range(n):\n",
    "    word = word_tokenize(sub_list[i])\n",
    "    words.append(word)\n",
    "print(words)"
   ]
  },
  {
   "cell_type": "code",
   "execution_count": 63,
   "id": "05840df4-a11a-4738-9fcc-f3b06b237c49",
   "metadata": {},
   "outputs": [
    {
     "name": "stdout",
     "output_type": "stream",
     "text": [
      "[['In', 'the', 'U', 'S', 'alone', 'cats', 'reign', 'over', 'about', '45', '3', 'million', 'households'], ['There', 'are', 'at', 'least', '45', 'domestic', 'breeds', 'which', 'differ', 'widely', 'in', 'features', 'such', 'as', 'coat', 'color', 'tail', 'length', 'hair', 'texture', 'and', 'temperament', 'according', 'to', 'the', 'Cat', 'Fancier', 's', 'Association'], ['The', 'Maine', 'Coon', 'is', 'the', 'largest', 'with', 'males', 'reaching', 'an', 'average', 'of', '3', '5', 'feet', 'long'], ['The', 'smallest', 'breed', 'is', 'the', 'Singapura', 'native', 'to', 'Singapore', 'with', 'adult', 'females', 'weighing', 'as', 'little', 'as', 'four', 'pounds'], ['One', 'of', 'the', 'most', 'unusual', 'looking', 'cats', 'is', 'the', 'Sphynx', 'a', 'mostly', 'hairless', 'cat', 'known', 'for', 'being', 'robust', 'and', 'intelligent']]\n"
     ]
    }
   ],
   "source": [
    "#nltk.download('stopwords')\n",
    "words = [w for w in words if w not in stopwords.words(\"english\")]\n",
    "print(words)"
   ]
  },
  {
   "cell_type": "code",
   "execution_count": 76,
   "id": "aff2d95e-2364-409d-afb8-59addfa58bee",
   "metadata": {},
   "outputs": [
    {
     "name": "stdout",
     "output_type": "stream",
     "text": [
      "stemmed words:\n",
      "[['in', 'the', 'u', 's', 'alon', 'cat', 'reign', 'over', 'about', '45', '3', 'million', 'household'], ['there', 'are', 'at', 'least', '45', 'domest', 'breed', 'which', 'differ', 'wide', 'in', 'featur', 'such', 'as', 'coat', 'color', 'tail', 'length', 'hair', 'textur', 'and', 'tempera', 'accord', 'to', 'the', 'cat', 'fancier', 's', 'associ'], ['the', 'main', 'coon', 'is', 'the', 'largest', 'with', 'male', 'reach', 'an', 'averag', 'of', '3', '5', 'feet', 'long'], ['the', 'smallest', 'breed', 'is', 'the', 'singapura', 'nativ', 'to', 'singapor', 'with', 'adult', 'femal', 'weigh', 'as', 'littl', 'as', 'four', 'pound'], ['one', 'of', 'the', 'most', 'unusu', 'look', 'cat', 'is', 'the', 'sphynx', 'a', 'mostli', 'hairless', 'cat', 'known', 'for', 'be', 'robust', 'and', 'intellig']]\n",
      "\n",
      "lemmatized words:\n",
      "[['In', 'the', 'U', 'S', 'alone', 'cat', 'reign', 'over', 'about', '45', '3', 'million', 'household'], ['There', 'are', 'at', 'least', '45', 'domestic', 'breed', 'which', 'differ', 'widely', 'in', 'feature', 'such', 'a', 'coat', 'color', 'tail', 'length', 'hair', 'texture', 'and', 'temperament', 'according', 'to', 'the', 'Cat', 'Fancier', 's', 'Association'], ['The', 'Maine', 'Coon', 'is', 'the', 'largest', 'with', 'male', 'reaching', 'an', 'average', 'of', '3', '5', 'foot', 'long'], ['The', 'smallest', 'breed', 'is', 'the', 'Singapura', 'native', 'to', 'Singapore', 'with', 'adult', 'female', 'weighing', 'a', 'little', 'a', 'four', 'pound'], ['One', 'of', 'the', 'most', 'unusual', 'looking', 'cat', 'is', 'the', 'Sphynx', 'a', 'mostly', 'hairless', 'cat', 'known', 'for', 'being', 'robust', 'and', 'intelligent']]\n"
     ]
    }
   ],
   "source": [
    "#nltk.download('wordnet')\n",
    "#nltk.download('omw-1.4')\n",
    "stem = []\n",
    "lem = []\n",
    "for i in range(n):\n",
    "    stemmed = [PorterStemmer().stem(w) for w in words[i]]\n",
    "    lemmatized = [WordNetLemmatizer().lemmatize(w) for w in words[i]]\n",
    "    stem.append(stemmed)\n",
    "    lem.append(lemmatized)\n",
    "print(f\"stemmed words:\\n{stem}\\n\\nlemmatized words:\\n{lem}\")"
   ]
  },
  {
   "cell_type": "code",
   "execution_count": 85,
   "id": "19e68d52-6603-4f2f-b16f-cb4e61bd5fea",
   "metadata": {},
   "outputs": [
    {
     "name": "stdout",
     "output_type": "stream",
     "text": [
      "Help on function pos_tag in module nltk.tag:\n",
      "\n",
      "pos_tag(tokens, tagset=None, lang='eng')\n",
      "    Use NLTK's currently recommended part of speech tagger to\n",
      "    tag the given list of tokens.\n",
      "    \n",
      "        >>> from nltk.tag import pos_tag\n",
      "        >>> from nltk.tokenize import word_tokenize\n",
      "        >>> pos_tag(word_tokenize(\"John's big idea isn't all that bad.\")) # doctest: +NORMALIZE_WHITESPACE\n",
      "        [('John', 'NNP'), (\"'s\", 'POS'), ('big', 'JJ'), ('idea', 'NN'), ('is', 'VBZ'),\n",
      "        (\"n't\", 'RB'), ('all', 'PDT'), ('that', 'DT'), ('bad', 'JJ'), ('.', '.')]\n",
      "        >>> pos_tag(word_tokenize(\"John's big idea isn't all that bad.\"), tagset='universal') # doctest: +NORMALIZE_WHITESPACE\n",
      "        [('John', 'NOUN'), (\"'s\", 'PRT'), ('big', 'ADJ'), ('idea', 'NOUN'), ('is', 'VERB'),\n",
      "        (\"n't\", 'ADV'), ('all', 'DET'), ('that', 'DET'), ('bad', 'ADJ'), ('.', '.')]\n",
      "    \n",
      "    NB. Use `pos_tag_sents()` for efficient tagging of more than one sentence.\n",
      "    \n",
      "    :param tokens: Sequence of tokens to be tagged\n",
      "    :type tokens: list(str)\n",
      "    :param tagset: the tagset to be used, e.g. universal, wsj, brown\n",
      "    :type tagset: str\n",
      "    :param lang: the ISO 639 code of the language, e.g. 'eng' for English, 'rus' for Russian\n",
      "    :type lang: str\n",
      "    :return: The tagged tokens\n",
      "    :rtype: list(tuple(str, str))\n",
      "\n"
     ]
    }
   ],
   "source": [
    "help(pos_tag)"
   ]
  },
  {
   "cell_type": "code",
   "execution_count": 109,
   "id": "e137a753-d73a-46fb-b468-5e1449757c29",
   "metadata": {},
   "outputs": [
    {
     "name": "stdout",
     "output_type": "stream",
     "text": [
      "Tag part of speech, sentence number 1: \n",
      "[('In', 'IN'), ('the', 'DT'), ('U', 'NNP'), ('S', 'NNP'), ('alone', 'RB'), ('cats', 'VBZ'), ('reign', 'NN'), ('over', 'IN'), ('about', 'IN'), ('45', 'CD'), ('3', 'CD'), ('million', 'CD'), ('households', 'NNS')]\n",
      "Tag part of speech, sentence number 2: \n",
      "[('There', 'EX'), ('are', 'VBP'), ('at', 'IN'), ('least', 'JJS'), ('45', 'CD'), ('domestic', 'JJ'), ('breeds', 'NNS'), ('which', 'WDT'), ('differ', 'VBP'), ('widely', 'RB'), ('in', 'IN'), ('features', 'NNS'), ('such', 'JJ'), ('as', 'IN'), ('coat', 'NN'), ('color', 'NN'), ('tail', 'NN'), ('length', 'NN'), ('hair', 'NN'), ('texture', 'NN'), ('and', 'CC'), ('temperament', 'NN'), ('according', 'VBG'), ('to', 'TO'), ('the', 'DT'), ('Cat', 'NNP'), ('Fancier', 'NNP'), ('s', 'POS'), ('Association', 'NNP')]\n",
      "Tag part of speech, sentence number 3: \n",
      "[('The', 'DT'), ('Maine', 'NNP'), ('Coon', 'NNP'), ('is', 'VBZ'), ('the', 'DT'), ('largest', 'JJS'), ('with', 'IN'), ('males', 'NNS'), ('reaching', 'VBG'), ('an', 'DT'), ('average', 'NN'), ('of', 'IN'), ('3', 'CD'), ('5', 'CD'), ('feet', 'NNS'), ('long', 'JJ')]\n",
      "Tag part of speech, sentence number 4: \n",
      "[('The', 'DT'), ('smallest', 'JJS'), ('breed', 'NN'), ('is', 'VBZ'), ('the', 'DT'), ('Singapura', 'NNP'), ('native', 'NN'), ('to', 'TO'), ('Singapore', 'NNP'), ('with', 'IN'), ('adult', 'NN'), ('females', 'NNS'), ('weighing', 'VBG'), ('as', 'RB'), ('little', 'JJ'), ('as', 'IN'), ('four', 'CD'), ('pounds', 'NNS')]\n",
      "Tag part of speech, sentence number 5: \n",
      "[('One', 'CD'), ('of', 'IN'), ('the', 'DT'), ('most', 'RBS'), ('unusual', 'JJ'), ('looking', 'VBG'), ('cats', 'NNS'), ('is', 'VBZ'), ('the', 'DT'), ('Sphynx', 'NNP'), ('a', 'DT'), ('mostly', 'RB'), ('hairless', 'JJ'), ('cat', 'NN'), ('known', 'VBN'), ('for', 'IN'), ('being', 'VBG'), ('robust', 'JJ'), ('and', 'CC'), ('intelligent', 'JJ')]\n",
      "\n",
      "Named entity recognition - sentence number 1: \n",
      " (S\n",
      "  In/IN\n",
      "  the/DT\n",
      "  (GPE U.S./NNP)\n",
      "  alone/RB\n",
      "  ,/,\n",
      "  cats/NNS\n",
      "  reign/VBP\n",
      "  over/IN\n",
      "  about/IN\n",
      "  45.3/CD\n",
      "  million/CD\n",
      "  households/NNS\n",
      "  ./.)\n",
      "\n",
      "\n",
      "Named entity recognition - sentence number 2: \n",
      " (S\n",
      "  There/EX\n",
      "  are/VBP\n",
      "  at/IN\n",
      "  least/JJS\n",
      "  45/CD\n",
      "  domestic/JJ\n",
      "  breeds/NNS\n",
      "  ,/,\n",
      "  which/WDT\n",
      "  differ/VBP\n",
      "  widely/RB\n",
      "  in/IN\n",
      "  features/NNS\n",
      "  such/JJ\n",
      "  as/IN\n",
      "  coat/NN\n",
      "  color/NN\n",
      "  ,/,\n",
      "  tail/NN\n",
      "  length/NN\n",
      "  ,/,\n",
      "  hair/NN\n",
      "  texture/NN\n",
      "  ,/,\n",
      "  and/CC\n",
      "  temperament/NN\n",
      "  ,/,\n",
      "  according/VBG\n",
      "  to/TO\n",
      "  the/DT\n",
      "  (ORGANIZATION Cat/NNP Fancier/NNP)\n",
      "  ’/NNP\n",
      "  s/POS\n",
      "  Association/NNP\n",
      "  ./.)\n",
      "\n",
      "\n",
      "Named entity recognition - sentence number 3: \n",
      " (S\n",
      "  The/DT\n",
      "  (ORGANIZATION Maine/NNP Coon/NNP)\n",
      "  is/VBZ\n",
      "  the/DT\n",
      "  largest/JJS\n",
      "  ,/,\n",
      "  with/IN\n",
      "  males/NNS\n",
      "  reaching/VBG\n",
      "  an/DT\n",
      "  average/NN\n",
      "  of/IN\n",
      "  3.5/CD\n",
      "  feet/NNS\n",
      "  long/RB\n",
      "  ./.)\n",
      "\n",
      "\n",
      "Named entity recognition - sentence number 4: \n",
      " (S\n",
      "  The/DT\n",
      "  smallest/JJS\n",
      "  breed/NN\n",
      "  is/VBZ\n",
      "  the/DT\n",
      "  (ORGANIZATION Singapura/NNP)\n",
      "  ,/,\n",
      "  native/JJ\n",
      "  to/TO\n",
      "  (GPE Singapore/NNP)\n",
      "  ,/,\n",
      "  with/IN\n",
      "  adult/NN\n",
      "  females/NNS\n",
      "  weighing/VBG\n",
      "  as/RB\n",
      "  little/JJ\n",
      "  as/IN\n",
      "  four/CD\n",
      "  pounds/NNS\n",
      "  ./.)\n",
      "\n",
      "\n",
      "Named entity recognition - sentence number 5: \n",
      " (S\n",
      "  One/CD\n",
      "  of/IN\n",
      "  the/DT\n",
      "  most/RBS\n",
      "  unusual-looking/JJ\n",
      "  cats/NNS\n",
      "  is/VBZ\n",
      "  the/DT\n",
      "  (GPE Sphynx/NNP)\n",
      "  ,/,\n",
      "  a/DT\n",
      "  mostly/RB\n",
      "  hairless/JJ\n",
      "  cat/NN\n",
      "  known/VBN\n",
      "  for/IN\n",
      "  being/VBG\n",
      "  robust/JJ\n",
      "  and/CC\n",
      "  intelligent/NN\n",
      "  ./.)\n",
      "\n"
     ]
    },
    {
     "data": {
      "text/plain": [
       "[None, None, None, None, None]"
      ]
     },
     "execution_count": 109,
     "metadata": {},
     "output_type": "execute_result"
    }
   ],
   "source": [
    "#nltk.download('averaged_perceptron_tagger')\n",
    "#nltk.download('maxent_ne_chunker')\n",
    "#nltk.download('words')\n",
    "[print(f\"Tag part of speech, sentence number {i+1}: \\n{pos_tag(words[i])}\") for i in range(n)]\n",
    "#[print(f\"\\nNamed entity recognition - sentence number {i+1}: \\n {ne_chunk(pos_tag(word_tokenize(text_list[i])))}\\n\") for i in range(n)]"
   ]
  },
  {
   "cell_type": "code",
   "execution_count": null,
   "id": "de9c201a-f239-4806-8fec-4b67d5df817d",
   "metadata": {},
   "outputs": [],
   "source": []
  }
 ],
 "metadata": {
  "kernelspec": {
   "display_name": "Python 3 (ipykernel)",
   "language": "python",
   "name": "python3"
  },
  "language_info": {
   "codemirror_mode": {
    "name": "ipython",
    "version": 3
   },
   "file_extension": ".py",
   "mimetype": "text/x-python",
   "name": "python",
   "nbconvert_exporter": "python",
   "pygments_lexer": "ipython3",
   "version": "3.8.13"
  }
 },
 "nbformat": 4,
 "nbformat_minor": 5
}
